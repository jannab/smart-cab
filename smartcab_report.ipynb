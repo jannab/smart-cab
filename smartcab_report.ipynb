{
 "cells": [
  {
   "cell_type": "markdown",
   "metadata": {},
   "source": [
    "# Project 4: Reinforcement Learning"
   ]
  },
  {
   "cell_type": "markdown",
   "metadata": {},
   "source": [
    "## Train a Smartcab to Drive"
   ]
  },
  {
   "cell_type": "markdown",
   "metadata": {},
   "source": [
    "### The setting"
   ]
  },
  {
   "cell_type": "markdown",
   "metadata": {},
   "source": [
    "In the project “Train a Smartcab to Drive”, a smartcab operating in an idealized grid-like city is given. There are traffic lights at each intersection and other cars present. The smartcab gets a reward for obeying traffic rules and a penalty for not obeying traffic rules or causing an accident. Goal of this project is to implement a learning agent for the smartcab that should learn an optimal policy for driving on city roads, obeying traffic rules correctly, and trying to reach the destination within a goal time based on the rewards and penalties it gets."
   ]
  },
  {
   "cell_type": "markdown",
   "metadata": {},
   "source": [
    "### Step 1 - Implement a basic driving agent"
   ]
  },
  {
   "cell_type": "markdown",
   "metadata": {},
   "source": [
    "In the first step, I let the smart cab take a random action out of the possibilities of:\n",
    "\n",
    "- doing nothing (state ‘None’)\n",
    "- driving forward (state ‘forward’)\n",
    "- turning left (state ‘left’)\n",
    "- turning right (state ‘right’)\n",
    "\n",
    "In this step, the smartcab does not learn from the results of it’s actions and has unlimited time to reach the goal.\n",
    "\n",
    "I put the printed output of my test run into `'output_first_text.txt'`."
   ]
  },
  {
   "cell_type": "code",
   "execution_count": 295,
   "metadata": {
    "collapsed": true
   },
   "outputs": [],
   "source": [
    "def read_in_my_text(file_name, print_lines):\n",
    "    with open (file_name, \"r\") as myfile:\n",
    "        output = myfile.read()\n",
    "    count_reached = output.count('Primary agent has reached destination!')\n",
    "    count_aborted = output.count('Trial aborted.')\n",
    "    lines = output.split('\\n')\n",
    "    print \"Rate of reaching the destination {}\".format(count_reached*1.0/(count_reached + count_aborted))\n",
    "    if print_lines == True:\n",
    "        print \"Last 3 lines:\"\n",
    "        for line in lines[-3:]:\n",
    "            print line"
   ]
  },
  {
   "cell_type": "code",
   "execution_count": 296,
   "metadata": {
    "collapsed": false
   },
   "outputs": [
    {
     "name": "stdout",
     "output_type": "stream",
     "text": [
      "Rate of reaching the destination 0.19801980198\n"
     ]
    }
   ],
   "source": [
    "read_in_my_text(\"outputs/out_1_1.txt\", False)"
   ]
  },
  {
   "cell_type": "code",
   "execution_count": 297,
   "metadata": {
    "collapsed": false
   },
   "outputs": [
    {
     "name": "stdout",
     "output_type": "stream",
     "text": [
      "Rate of reaching the destination 0.25\n"
     ]
    }
   ],
   "source": [
    "read_in_my_text(\"outputs/out_1_2.txt\", False)"
   ]
  },
  {
   "cell_type": "code",
   "execution_count": 298,
   "metadata": {
    "collapsed": false
   },
   "outputs": [
    {
     "name": "stdout",
     "output_type": "stream",
     "text": [
      "Rate of reaching the destination 0.2\n"
     ]
    }
   ],
   "source": [
    "read_in_my_text(\"outputs/out_1_3.txt\", False)"
   ]
  },
  {
   "cell_type": "code",
   "execution_count": 299,
   "metadata": {
    "collapsed": false
   },
   "outputs": [
    {
     "name": "stdout",
     "output_type": "stream",
     "text": [
      "Rate of reaching the destination 0.23\n"
     ]
    }
   ],
   "source": [
    "read_in_my_text(\"outputs/out_1_4.txt\", False)"
   ]
  },
  {
   "cell_type": "code",
   "execution_count": 300,
   "metadata": {
    "collapsed": false
   },
   "outputs": [
    {
     "name": "stdout",
     "output_type": "stream",
     "text": [
      "Rate of reaching the destination 0.16\n"
     ]
    }
   ],
   "source": [
    "read_in_my_text(\"outputs/out_1_5.txt\", False)"
   ]
  },
  {
   "cell_type": "markdown",
   "metadata": {},
   "source": [
    "The smartcab reaches the destination in time in around 20% of the trials. If the smartcab reaches the destination is a question of chance. The actions are chosen randomly, independent of the destination and the received rewards."
   ]
  },
  {
   "cell_type": "markdown",
   "metadata": {},
   "source": [
    "### Step 2 - Identify and update state"
   ]
  },
  {
   "cell_type": "markdown",
   "metadata": {},
   "source": [
    "For the states, I chose a tupel of `'next_waypoint'`, `'light'`, `'oncoming'` and `'left'`. I didn't take `'right'` into account, because no matter what our smartcab is going to do, the traffic from the right side has no influence on it."
   ]
  },
  {
   "cell_type": "markdown",
   "metadata": {},
   "source": [
    "### Step 3 - Implement Q-Learning"
   ]
  },
  {
   "cell_type": "markdown",
   "metadata": {},
   "source": [
    "In this step I implemented the q-learning algorithm with a learning rate of 0.5 and a discount factor of 0.5. The next action is always chosen based on the best estemate based on the current state. I didn't use an exploration rate."
   ]
  },
  {
   "cell_type": "code",
   "execution_count": 301,
   "metadata": {
    "collapsed": false
   },
   "outputs": [
    {
     "name": "stdout",
     "output_type": "stream",
     "text": [
      "Rate of reaching the destination 0.911764705882\n",
      "Last 3 lines:\n",
      "Environment.act(): Primary agent has reached destination!\n",
      "Environment.act(): Primary agent has reached destination!\n",
      "Environment.act(): Primary agent has reached destination!\n"
     ]
    }
   ],
   "source": [
    "read_in_my_text(\"outputs/out_3_1.txt\", True)"
   ]
  },
  {
   "cell_type": "code",
   "execution_count": 302,
   "metadata": {
    "collapsed": false
   },
   "outputs": [
    {
     "name": "stdout",
     "output_type": "stream",
     "text": [
      "Rate of reaching the destination 0.93137254902\n",
      "Last 3 lines:\n",
      "Environment.act(): Primary agent has reached destination!\n",
      "Environment.act(): Primary agent has reached destination!\n",
      "Environment.act(): Primary agent has reached destination!\n"
     ]
    }
   ],
   "source": [
    "read_in_my_text(\"outputs/out_3_2.txt\", True)"
   ]
  },
  {
   "cell_type": "code",
   "execution_count": 303,
   "metadata": {
    "collapsed": false
   },
   "outputs": [
    {
     "name": "stdout",
     "output_type": "stream",
     "text": [
      "Rate of reaching the destination 0.06\n",
      "Last 3 lines:\n",
      "Environment.step(): Primary agent ran out of time! Trial aborted.\n",
      "Environment.step(): Primary agent ran out of time! Trial aborted.\n",
      "Environment.step(): Primary agent ran out of time! Trial aborted.\n"
     ]
    }
   ],
   "source": [
    "read_in_my_text(\"outputs/out_3_3.txt\", True)"
   ]
  },
  {
   "cell_type": "code",
   "execution_count": 304,
   "metadata": {
    "collapsed": false
   },
   "outputs": [
    {
     "name": "stdout",
     "output_type": "stream",
     "text": [
      "Rate of reaching the destination 0.970297029703\n",
      "Last 3 lines:\n",
      "Environment.act(): Primary agent has reached destination!\n",
      "Environment.act(): Primary agent has reached destination!\n",
      "Environment.act(): Primary agent has reached destination!\n"
     ]
    }
   ],
   "source": [
    "read_in_my_text(\"outputs/out_3_4.txt\", True)"
   ]
  },
  {
   "cell_type": "code",
   "execution_count": 305,
   "metadata": {
    "collapsed": false
   },
   "outputs": [
    {
     "name": "stdout",
     "output_type": "stream",
     "text": [
      "Rate of reaching the destination 0.950980392157\n",
      "Last 3 lines:\n",
      "Environment.act(): Primary agent has reached destination!\n",
      "Environment.act(): Primary agent has reached destination!\n",
      "Environment.act(): Primary agent has reached destination!\n"
     ]
    }
   ],
   "source": [
    "read_in_my_text(\"outputs/out_3_5.txt\", True)"
   ]
  },
  {
   "cell_type": "markdown",
   "metadata": {},
   "source": [
    "Interestingly, the smartcab reaches the destination quite often in time. There seem to be some cases, when the smartcab get's stuck and doesn't reach the destination in time."
   ]
  },
  {
   "cell_type": "markdown",
   "metadata": {},
   "source": [
    "### Step 4 - Enhance the driving agent"
   ]
  },
  {
   "cell_type": "markdown",
   "metadata": {},
   "source": [
    "I played around with the learning rate and calculated it using the time step. I stayed with a discount factor of 0.1. I tried several exploration rates, but that lead to not reaching the goal more often."
   ]
  },
  {
   "cell_type": "code",
   "execution_count": 306,
   "metadata": {
    "collapsed": false
   },
   "outputs": [
    {
     "name": "stdout",
     "output_type": "stream",
     "text": [
      "Rate of reaching the destination 0.950495049505\n",
      "Last 3 lines:\n",
      "Environment.act(): Primary agent has reached destination!\n",
      "Environment.act(): Primary agent has reached destination!\n",
      "Environment.act(): Primary agent has reached destination!\n"
     ]
    }
   ],
   "source": [
    "read_in_my_text(\"outputs/out_5_1.txt\", True)"
   ]
  },
  {
   "cell_type": "code",
   "execution_count": 307,
   "metadata": {
    "collapsed": false
   },
   "outputs": [
    {
     "name": "stdout",
     "output_type": "stream",
     "text": [
      "Rate of reaching the destination 0.98\n",
      "Last 3 lines:\n",
      "Environment.act(): Primary agent has reached destination!\n",
      "Environment.act(): Primary agent has reached destination!\n",
      "Environment.act(): Primary agent has reached destination!\n"
     ]
    }
   ],
   "source": [
    "read_in_my_text(\"outputs/out_5_2.txt\", True)"
   ]
  },
  {
   "cell_type": "code",
   "execution_count": 308,
   "metadata": {
    "collapsed": false
   },
   "outputs": [
    {
     "name": "stdout",
     "output_type": "stream",
     "text": [
      "Rate of reaching the destination 0.94\n",
      "Last 3 lines:\n",
      "Environment.act(): Primary agent has reached destination!\n",
      "Environment.act(): Primary agent has reached destination!\n",
      "Environment.step(): Primary agent ran out of time! Trial aborted.\n"
     ]
    }
   ],
   "source": [
    "read_in_my_text(\"outputs/out_5_3.txt\", True)"
   ]
  },
  {
   "cell_type": "code",
   "execution_count": 309,
   "metadata": {
    "collapsed": false
   },
   "outputs": [
    {
     "name": "stdout",
     "output_type": "stream",
     "text": [
      "Rate of reaching the destination 0.98\n",
      "Last 3 lines:\n",
      "Environment.act(): Primary agent has reached destination!\n",
      "Environment.act(): Primary agent has reached destination!\n",
      "Environment.act(): Primary agent has reached destination!\n"
     ]
    }
   ],
   "source": [
    "read_in_my_text(\"outputs/out_5_4.txt\", True)"
   ]
  },
  {
   "cell_type": "code",
   "execution_count": 310,
   "metadata": {
    "collapsed": false
   },
   "outputs": [
    {
     "name": "stdout",
     "output_type": "stream",
     "text": [
      "Rate of reaching the destination 0.92\n",
      "Last 3 lines:\n",
      "Environment.act(): Primary agent has reached destination!\n",
      "Environment.act(): Primary agent has reached destination!\n",
      "Environment.act(): Primary agent has reached destination!\n"
     ]
    }
   ],
   "source": [
    "read_in_my_text(\"outputs/out_5_5.txt\", True)"
   ]
  },
  {
   "cell_type": "markdown",
   "metadata": {},
   "source": [
    "In addition to the changes I made to the learning rate, I changed the initialization from my q table from initializing it with zeros to using random values between 0 and 4. With my first attempt the smartcab got stuck most of the time.\n",
    "\n",
    "My final agent finds a close to optimal policy. The rewards increase with time and the smartcab reaches the destination in time most of the time."
   ]
  }
 ],
 "metadata": {
  "kernelspec": {
   "display_name": "Python 2",
   "language": "python",
   "name": "python2"
  },
  "language_info": {
   "codemirror_mode": {
    "name": "ipython",
    "version": 2
   },
   "file_extension": ".py",
   "mimetype": "text/x-python",
   "name": "python",
   "nbconvert_exporter": "python",
   "pygments_lexer": "ipython2",
   "version": "2.7.12"
  }
 },
 "nbformat": 4,
 "nbformat_minor": 0
}
