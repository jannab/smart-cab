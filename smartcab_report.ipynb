{
 "cells": [
  {
   "cell_type": "markdown",
   "metadata": {},
   "source": [
    "# Project 4: Reinforcement Learning"
   ]
  },
  {
   "cell_type": "markdown",
   "metadata": {},
   "source": [
    "## Train a Smartcab to Drive"
   ]
  },
  {
   "cell_type": "markdown",
   "metadata": {},
   "source": [
    "### The setting"
   ]
  },
  {
   "cell_type": "markdown",
   "metadata": {},
   "source": [
    "In the project “Train a Smartcab to Drive”, a smartcab operating in an idealized grid-like city is given. There are traffic lights at each intersection and other cars present. The smartcab gets a reward for obeying traffic rules and a penalty for not obeying traffic rules or causing an accident. Goal of this project is to implement a learning agent for the smartcab that should learn an optimal policy for driving on city roads, obeying traffic rules correctly, and trying to reach the destination within a goal time based on the rewards and penalties it gets."
   ]
  },
  {
   "cell_type": "markdown",
   "metadata": {},
   "source": [
    "### Step 1 - Implement a basic driving agent"
   ]
  },
  {
   "cell_type": "markdown",
   "metadata": {},
   "source": [
    "In the first step, I let the smart cab take a random action out of the possibilities of:\n",
    "\n",
    "- doing nothing (state ‘None’)\n",
    "- driving forward (state ‘forward’)\n",
    "- turning left (state ‘left’)\n",
    "- turning right (state ‘right’)\n",
    "\n",
    "In this step, the smartcab does not learn from the results of it’s actions and has unlimited time to reach the goal.\n",
    "\n",
    "I put the printed output of my test run into `'output_first_text.txt'`."
   ]
  },
  {
   "cell_type": "code",
   "execution_count": 43,
   "metadata": {
    "collapsed": true
   },
   "outputs": [],
   "source": [
    "def read_in_my_text(file_name):\n",
    "    with open (file_name, \"r\") as myfile:\n",
    "        output = myfile.read()\n",
    "    count_reached = output.count('Primary agent has reached destination!')\n",
    "    count_aborted = output.count('Primary agent hit hard time limit (-100)! Trial aborted.')\n",
    "    print \"Rate of reaching the destination \" + str(count_reached*1.0/(count_reached + count_aborted))"
   ]
  },
  {
   "cell_type": "code",
   "execution_count": 44,
   "metadata": {
    "collapsed": false
   },
   "outputs": [
    {
     "name": "stdout",
     "output_type": "stream",
     "text": [
      "Rate of reaching the destination 0.613861386139\n"
     ]
    }
   ],
   "source": [
    "read_in_my_text(\"output_first_text.txt\")"
   ]
  },
  {
   "cell_type": "markdown",
   "metadata": {},
   "source": [
    "The counts of destination reached and aborted trials add up to 101, which makes sense looking at the output file. The trials start with a trial number 0 and end with a trial number 100.\n",
    "\n",
    "This shows, that our smartcab is in about 60% of the trials able to reach the destination in the given time plus 100 extra steps. In 40% of the time even the 100 extra steps are not enough to let the smartcab reach it's destination."
   ]
  },
  {
   "cell_type": "markdown",
   "metadata": {},
   "source": [
    "### Step 2 - Identify and update state"
   ]
  },
  {
   "cell_type": "markdown",
   "metadata": {},
   "source": [
    "I modeled states explicity for our given traffic rules. These states could easily be changed to work in an environment where we don't know which traffic light color is the one to go or to an environment where we might drive on the other side. In this case, the number of states would increase accordingly (for example I would look at more inputs when the traffic light is red).\n",
    "\n",
    "Reducing the states I had in mind to keep the states as simple and understandable as possible. Each of my chosen states uses only the inputs needed to let us know if our smartcab should stop or go. With a smartcab heading forward, a red traffic light is enough to know it should stop, we don't have to know if there is another car oncoming, on the left or on the right.\n",
    "\n",
    "I chose to look at the following states:\n",
    "- forward, red light\n",
    "- forward, green light\n",
    "- turn right, green light\n",
    "- turn right, red light, someone left\n",
    "- turn right, red light, no one left\n",
    "- turn left, red light\n",
    "- turn left, green light, someone oncoming\n",
    "- turn left, green light, no one oncoming"
   ]
  },
  {
   "cell_type": "markdown",
   "metadata": {},
   "source": [
    "### Step 3 - Implement Q-Learning"
   ]
  },
  {
   "cell_type": "markdown",
   "metadata": {},
   "source": [
    "In this step I implemented the q-learning algorithm with a learning rate of 0.5 and a discount factor of 0.5. The next action is always chosen based on the best estemate based on the current state.\n",
    "\n",
    "I put the printed output of my test run into `'output_first_text.txt'`."
   ]
  },
  {
   "cell_type": "code",
   "execution_count": 45,
   "metadata": {
    "collapsed": false
   },
   "outputs": [
    {
     "name": "stdout",
     "output_type": "stream",
     "text": [
      "Rate of reaching the destination 0.0\n"
     ]
    }
   ],
   "source": [
    "read_in_my_text(\"output_second_text.txt\")"
   ]
  },
  {
   "cell_type": "markdown",
   "metadata": {},
   "source": [
    "Interestingly, the smartcab does not reach it's destination in a single trial, even though it has the 100 extra steps. It's obvious in the visualization that the smartcab sticks to actions it took before, rarely trying a new action. It gets stuck most of the time. Probably because the penalty for not moving at a red traffic light is not as high as the penalty for overstepping other traffic rules and the smartcab continually gets points for not moving at a traffic light as soon as it turns red.\n",
    "\n",
    "Let's try to fix this by tweaking the values for the learning rate, the discount factor and the behavior on how to choose the best action."
   ]
  },
  {
   "cell_type": "markdown",
   "metadata": {},
   "source": [
    "### Step 4 - Enhance the driving agent"
   ]
  },
  {
   "cell_type": "markdown",
   "metadata": {},
   "source": [
    "In this step I am playing around with the learning rate and the discount factor. But before, I will change the way the next action is chosen by changing the behavior of my learner when the highest estimated reward of an action is 0.\n",
    "\n",
    "In this case, the smartcab has probably not faced the situation yet. In this situation I want the smartcab to make a random choice of what to do. I implemented a random choice of actions whenever the smartcab has no former knowledge about a situation like the one it is facing. I also implemented, that the smartcab should choose a random action, when the highest estimated reward is for doing nothing and it is below 0.4 to prevent that the smartcab gets stuck."
   ]
  },
  {
   "cell_type": "code",
   "execution_count": 46,
   "metadata": {
    "collapsed": false
   },
   "outputs": [
    {
     "name": "stdout",
     "output_type": "stream",
     "text": [
      "Rate of reaching the destination 0.49\n"
     ]
    }
   ],
   "source": [
    "read_in_my_text(\"output_third_text.txt\")"
   ]
  },
  {
   "cell_type": "markdown",
   "metadata": {},
   "source": [
    "With these changes the number of trails the smartcab reaches the destination goes up to 49%. A nice start compared to the result above with a lot of room for improvement.\n",
    "\n",
    "In the next step I lowered the learning rate to 0.1 instead of 0.5."
   ]
  },
  {
   "cell_type": "code",
   "execution_count": 89,
   "metadata": {
    "collapsed": false
   },
   "outputs": [
    {
     "name": "stdout",
     "output_type": "stream",
     "text": [
      "Rate of reaching the destination 0.594059405941\n"
     ]
    }
   ],
   "source": [
    "read_in_my_text(\"output_fourth_text.txt\")"
   ]
  },
  {
   "cell_type": "markdown",
   "metadata": {},
   "source": [
    "This gets the trials the smartcab reaches the destination to 57%. Maybe we can top that by lowering the learning rate even further."
   ]
  },
  {
   "cell_type": "code",
   "execution_count": 88,
   "metadata": {
    "collapsed": false
   },
   "outputs": [
    {
     "name": "stdout",
     "output_type": "stream",
     "text": [
      "Simulator.run(): Trial 0\n",
      "Environment.reset(): Trial set up with start = (1, 4), destination = (4, 5), deadline = 20\n",
      "RoutePlanner.route_to(): destination = (4, 5)\n",
      "Environment.act(): Primary agent has reached destination!\n",
      "Simulator.run(): Trial 1\n",
      "Environment.reset(): Trial set up with start = (2, 5), destination = (7, 6), deadline = 30\n",
      "RoutePlanner.route_to(): destination = (7, 6)\n",
      "Environment.step(): Primary agent hit hard time limit (-100)! Trial aborted.\n",
      "Simulator.run(): Trial 2\n",
      "Environment.reset(): Trial set up with start = (8, 5), destination = (3, 6), deadline = 30\n",
      "RoutePlanner.route_to(): destination = (3, 6)\n",
      "Environment.act(): Primary agent has reached destination!\n",
      "Simulator.run(): Trial 3\n",
      "Environment.reset(): Trial set up with start = (3, 1), destination = (5, 6), deadline = 35\n",
      "RoutePlanner.route_to(): destination = (5, 6)\n",
      "Environment.act(): Primary agent has reached destination!\n",
      "Simulator.run(): Trial 4\n",
      "Environment.reset(): Trial set up with start = (8, 1), destination = (3, 2), deadline = 30\n",
      "RoutePlanner.route_to(): destination = (3, 2)\n",
      "Environment.step(): Primary agent hit hard time limit (-100)! Trial aborted.\n",
      "Simulator.run(): Trial 5\n",
      "Environment.reset(): Trial set up with start = (7, 4), destination = (1, 3), deadline = 35\n",
      "RoutePlanner.route_to(): destination = (1, 3)\n",
      "Environment.act(): Primary agent has reached destination!\n",
      "Simulator.run(): Trial 6\n",
      "Environment.reset(): Trial set up with start = (2, 2), destination = (6, 4), deadline = 30\n",
      "RoutePlanner.route_to(): destination = (6, 4)\n",
      "Environment.act(): Primary agent has reached destination!\n",
      "Simulator.run(): Trial 7\n",
      "Environment.reset(): Trial set up with start = (4, 1), destination = (8, 2), deadline = 25\n",
      "RoutePlanner.route_to(): destination = (8, 2)\n",
      "Environment.act(): Primary agent has reached destination!\n",
      "Simulator.run(): Trial 8\n",
      "Environment.reset(): Trial set up with start = (6, 3), destination = (1, 1), deadline = 35\n",
      "RoutePlanner.route_to(): destination = (1, 1)\n",
      "Environment.act(): Primary agent has reached destination!\n",
      "Simulator.run(): Trial 9\n",
      "Environment.reset(): Trial set up with start = (1, 2), destination = (4, 1), deadline = 20\n",
      "RoutePlanner.route_to(): destination = (4, 1)\n",
      "Environment.step(): Primary agent hit hard time limit (-100)! Trial aborted.\n",
      "Simulator.run(): Trial 10\n",
      "Environment.reset(): Trial set up with start = (3, 4), destination = (8, 5), deadline = 30\n",
      "RoutePlanner.route_to(): destination = (8, 5)\n",
      "Environment.step(): Primary agent hit hard time limit (-100)! Trial aborted.\n",
      "Simulator.run(): Trial 11\n",
      "Environment.reset(): Trial set up with start = (7, 6), destination = (4, 4), deadline = 25\n",
      "RoutePlanner.route_to(): destination = (4, 4)\n",
      "Environment.act(): Primary agent has reached destination!\n",
      "Environment.step(): Primary agent hit hard time limit (-100)! Trial aborted.\n",
      "Simulator.run(): Trial 12\n",
      "Environment.reset(): Trial set up with start = (7, 5), destination = (2, 2), deadline = 40\n",
      "RoutePlanner.route_to(): destination = (2, 2)\n",
      "Environment.step(): Primary agent hit hard time limit (-100)! Trial aborted.\n",
      "Simulator.run(): Trial 13\n",
      "Environment.reset(): Trial set up with start = (3, 1), destination = (2, 6), deadline = 30\n",
      "RoutePlanner.route_to(): destination = (2, 6)\n",
      "Environment.step(): Primary agent hit hard time limit (-100)! Trial aborted.\n",
      "Simulator.run(): Trial 14\n",
      "Environment.reset(): Trial set up with start = (1, 6), destination = (8, 1), deadline = 60\n",
      "RoutePlanner.route_to(): destination = (8, 1)\n",
      "Environment.act(): Primary agent has reached destination!\n",
      "Simulator.run(): Trial 15\n",
      "Environment.reset(): Trial set up with start = (6, 1), destination = (5, 4), deadline = 20\n",
      "RoutePlanner.route_to(): destination = (5, 4)\n",
      "Environment.act(): Primary agent has reached destination!\n",
      "Simulator.run(): Trial 16\n",
      "Environment.reset(): Trial set up with start = (7, 4), destination = (2, 4), deadline = 25\n",
      "RoutePlanner.route_to(): destination = (2, 4)\n",
      "Environment.act(): Primary agent has reached destination!\n",
      "Simulator.run(): Trial 17\n",
      "Environment.reset(): Trial set up with start = (2, 5), destination = (7, 3), deadline = 35\n",
      "RoutePlanner.route_to(): destination = (7, 3)\n",
      "Environment.act(): Primary agent has reached destination!\n",
      "Simulator.run(): Trial 18\n",
      "Environment.reset(): Trial set up with start = (1, 4), destination = (8, 4), deadline = 35\n",
      "RoutePlanner.route_to(): destination = (8, 4)\n",
      "Environment.act(): Primary agent has reached destination!\n",
      "Simulator.run(): Trial 19\n",
      "Environment.reset(): Trial set up with start = (6, 1), destination = (1, 5), deadline = 45\n",
      "RoutePlanner.route_to(): destination = (1, 5)\n",
      "Environment.act(): Primary agent has reached destination!\n",
      "Simulator.run(): Trial 20\n",
      "Environment.reset(): Trial set up with start = (6, 4), destination = (8, 2), deadline = 20\n",
      "RoutePlanner.route_to(): destination = (8, 2)\n",
      "Environment.step(): Primary agent hit hard time limit (-100)! Trial aborted.\n",
      "Simulator.run(): Trial 21\n",
      "Environment.reset(): Trial set up with start = (1, 1), destination = (5, 2), deadline = 25\n",
      "RoutePlanner.route_to(): destination = (5, 2)\n",
      "Environment.act(): Primary agent has reached destination!\n",
      "Simulator.run(): Trial 22\n",
      "Environment.reset(): Trial set up with start = (3, 1), destination = (8, 1), deadline = 25\n",
      "RoutePlanner.route_to(): destination = (8, 1)\n",
      "Environment.act(): Primary agent has reached destination!\n",
      "Simulator.run(): Trial 23\n",
      "Environment.reset(): Trial set up with start = (1, 1), destination = (1, 6), deadline = 25\n",
      "RoutePlanner.route_to(): destination = (1, 6)\n",
      "Environment.act(): Primary agent has reached destination!\n",
      "Simulator.run(): Trial 24\n",
      "Environment.reset(): Trial set up with start = (2, 5), destination = (7, 1), deadline = 45\n",
      "RoutePlanner.route_to(): destination = (7, 1)\n",
      "Environment.step(): Primary agent hit hard time limit (-100)! Trial aborted.\n",
      "Simulator.run(): Trial 25\n",
      "Environment.reset(): Trial set up with start = (8, 2), destination = (2, 1), deadline = 35\n",
      "RoutePlanner.route_to(): destination = (2, 1)\n",
      "Environment.act(): Primary agent has reached destination!\n",
      "Simulator.run(): Trial 26\n",
      "Environment.reset(): Trial set up with start = (6, 1), destination = (2, 5), deadline = 40\n",
      "RoutePlanner.route_to(): destination = (2, 5)\n",
      "Environment.act(): Primary agent has reached destination!\n",
      "Simulator.run(): Trial 27\n",
      "Environment.reset(): Trial set up with start = (8, 3), destination = (2, 1), deadline = 40\n",
      "RoutePlanner.route_to(): destination = (2, 1)\n",
      "Environment.step(): Primary agent hit hard time limit (-100)! Trial aborted.\n",
      "Simulator.run(): Trial 28\n",
      "Environment.reset(): Trial set up with start = (2, 3), destination = (8, 2), deadline = 35\n",
      "RoutePlanner.route_to(): destination = (8, 2)\n",
      "Environment.act(): Primary agent has reached destination!\n",
      "Simulator.run(): Trial 29\n",
      "Environment.reset(): Trial set up with start = (3, 4), destination = (8, 4), deadline = 25\n",
      "RoutePlanner.route_to(): destination = (8, 4)\n",
      "Environment.act(): Primary agent has reached destination!\n",
      "Simulator.run(): Trial 30\n",
      "Environment.reset(): Trial set up with start = (8, 4), destination = (2, 1), deadline = 45\n",
      "RoutePlanner.route_to(): destination = (2, 1)\n",
      "Environment.act(): Primary agent has reached destination!\n",
      "Simulator.run(): Trial 31\n",
      "Environment.reset(): Trial set up with start = (6, 5), destination = (2, 1), deadline = 40\n",
      "RoutePlanner.route_to(): destination = (2, 1)\n",
      "Environment.step(): Primary agent hit hard time limit (-100)! Trial aborted.\n",
      "Simulator.run(): Trial 32\n",
      "Environment.reset(): Trial set up with start = (3, 3), destination = (6, 2), deadline = 20\n",
      "RoutePlanner.route_to(): destination = (6, 2)\n",
      "Environment.act(): Primary agent has reached destination!\n",
      "Simulator.run(): Trial 33\n",
      "Environment.reset(): Trial set up with start = (1, 3), destination = (6, 4), deadline = 30\n",
      "RoutePlanner.route_to(): destination = (6, 4)\n",
      "Environment.step(): Primary agent hit hard time limit (-100)! Trial aborted.\n",
      "Simulator.run(): Trial 34\n",
      "Environment.reset(): Trial set up with start = (6, 4), destination = (1, 1), deadline = 40\n",
      "RoutePlanner.route_to(): destination = (1, 1)\n",
      "Environment.act(): Primary agent has reached destination!\n",
      "Simulator.run(): Trial 35\n",
      "Environment.reset(): Trial set up with start = (7, 1), destination = (3, 4), deadline = 35\n",
      "RoutePlanner.route_to(): destination = (3, 4)\n",
      "Environment.step(): Primary agent hit hard time limit (-100)! Trial aborted.\n",
      "Simulator.run(): Trial 36\n",
      "Environment.reset(): Trial set up with start = (2, 6), destination = (6, 3), deadline = 35\n",
      "RoutePlanner.route_to(): destination = (6, 3)\n",
      "Environment.act(): Primary agent has reached destination!\n",
      "Simulator.run(): Trial 37\n",
      "Environment.reset(): Trial set up with start = (6, 1), destination = (5, 5), deadline = 25\n",
      "RoutePlanner.route_to(): destination = (5, 5)\n",
      "Environment.step(): Primary agent hit hard time limit (-100)! Trial aborted.\n",
      "Simulator.run(): Trial 38\n",
      "Environment.reset(): Trial set up with start = (1, 3), destination = (3, 6), deadline = 25\n",
      "RoutePlanner.route_to(): destination = (3, 6)\n",
      "Environment.act(): Primary agent has reached destination!\n",
      "Simulator.run(): Trial 39\n",
      "Environment.reset(): Trial set up with start = (2, 2), destination = (5, 1), deadline = 20\n",
      "RoutePlanner.route_to(): destination = (5, 1)\n",
      "Environment.step(): Primary agent hit hard time limit (-100)! Trial aborted.\n",
      "Simulator.run(): Trial 40\n",
      "Environment.reset(): Trial set up with start = (3, 1), destination = (7, 1), deadline = 20\n",
      "RoutePlanner.route_to(): destination = (7, 1)\n",
      "Environment.step(): Primary agent hit hard time limit (-100)! Trial aborted.\n",
      "Simulator.run(): Trial 41\n",
      "Environment.reset(): Trial set up with start = (4, 4), destination = (1, 3), deadline = 20\n",
      "RoutePlanner.route_to(): destination = (1, 3)\n",
      "Environment.act(): Primary agent has reached destination!\n",
      "Simulator.run(): Trial 42\n",
      "Environment.reset(): Trial set up with start = (4, 4), destination = (6, 6), deadline = 20\n",
      "RoutePlanner.route_to(): destination = (6, 6)\n",
      "Environment.act(): Primary agent has reached destination!\n",
      "Simulator.run(): Trial 43\n",
      "Environment.reset(): Trial set up with start = (7, 1), destination = (4, 5), deadline = 35\n",
      "RoutePlanner.route_to(): destination = (4, 5)\n",
      "Environment.step(): Primary agent hit hard time limit (-100)! Trial aborted.\n",
      "Simulator.run(): Trial 44\n",
      "Environment.reset(): Trial set up with start = (1, 4), destination = (4, 5), deadline = 20\n",
      "RoutePlanner.route_to(): destination = (4, 5)\n",
      "Environment.step(): Primary agent hit hard time limit (-100)! Trial aborted.\n",
      "Simulator.run(): Trial 45\n",
      "Environment.reset(): Trial set up with start = (5, 1), destination = (5, 5), deadline = 20\n",
      "RoutePlanner.route_to(): destination = (5, 5)\n",
      "Environment.act(): Primary agent has reached destination!\n",
      "Simulator.run(): Trial 46\n",
      "Environment.reset(): Trial set up with start = (5, 3), destination = (1, 5), deadline = 30\n",
      "RoutePlanner.route_to(): destination = (1, 5)\n",
      "Environment.step(): Primary agent hit hard time limit (-100)! Trial aborted.\n",
      "Simulator.run(): Trial 47\n",
      "Environment.reset(): Trial set up with start = (1, 4), destination = (8, 2), deadline = 45\n",
      "RoutePlanner.route_to(): destination = (8, 2)\n",
      "Environment.step(): Primary agent hit hard time limit (-100)! Trial aborted.\n",
      "Simulator.run(): Trial 48\n",
      "Environment.reset(): Trial set up with start = (5, 5), destination = (6, 2), deadline = 20\n",
      "RoutePlanner.route_to(): destination = (6, 2)\n",
      "Environment.act(): Primary agent has reached destination!\n",
      "Simulator.run(): Trial 49\n",
      "Environment.reset(): Trial set up with start = (8, 2), destination = (5, 4), deadline = 25\n",
      "RoutePlanner.route_to(): destination = (5, 4)\n",
      "Environment.act(): Primary agent has reached destination!\n",
      "Simulator.run(): Trial 50\n",
      "Environment.reset(): Trial set up with start = (2, 6), destination = (1, 3), deadline = 20\n",
      "RoutePlanner.route_to(): destination = (1, 3)\n",
      "Environment.act(): Primary agent has reached destination!\n",
      "Simulator.run(): Trial 51\n",
      "Environment.reset(): Trial set up with start = (2, 6), destination = (7, 4), deadline = 35\n",
      "RoutePlanner.route_to(): destination = (7, 4)\n",
      "Environment.act(): Primary agent has reached destination!\n",
      "Simulator.run(): Trial 52\n",
      "Environment.reset(): Trial set up with start = (2, 5), destination = (7, 1), deadline = 45\n",
      "RoutePlanner.route_to(): destination = (7, 1)\n",
      "Environment.step(): Primary agent hit hard time limit (-100)! Trial aborted.\n",
      "Simulator.run(): Trial 53\n",
      "Environment.reset(): Trial set up with start = (1, 6), destination = (7, 1), deadline = 55\n",
      "RoutePlanner.route_to(): destination = (7, 1)\n",
      "Environment.act(): Primary agent has reached destination!\n",
      "Simulator.run(): Trial 54\n",
      "Environment.reset(): Trial set up with start = (8, 3), destination = (4, 5), deadline = 30\n",
      "RoutePlanner.route_to(): destination = (4, 5)\n",
      "Environment.step(): Primary agent hit hard time limit (-100)! Trial aborted.\n",
      "Simulator.run(): Trial 55\n",
      "Environment.reset(): Trial set up with start = (5, 5), destination = (6, 2), deadline = 20\n",
      "RoutePlanner.route_to(): destination = (6, 2)\n",
      "Environment.act(): Primary agent has reached destination!\n",
      "Simulator.run(): Trial 56\n",
      "Environment.reset(): Trial set up with start = (2, 5), destination = (3, 2), deadline = 20\n",
      "RoutePlanner.route_to(): destination = (3, 2)\n",
      "Environment.act(): Primary agent has reached destination!\n",
      "Simulator.run(): Trial 57\n",
      "Environment.reset(): Trial set up with start = (6, 1), destination = (2, 2), deadline = 25\n",
      "RoutePlanner.route_to(): destination = (2, 2)\n",
      "Environment.act(): Primary agent has reached destination!\n",
      "Simulator.run(): Trial 58\n",
      "Environment.reset(): Trial set up with start = (7, 3), destination = (8, 6), deadline = 20\n",
      "RoutePlanner.route_to(): destination = (8, 6)\n",
      "Environment.act(): Primary agent has reached destination!\n",
      "Simulator.run(): Trial 59\n",
      "Environment.reset(): Trial set up with start = (1, 5), destination = (8, 3), deadline = 45\n",
      "RoutePlanner.route_to(): destination = (8, 3)\n",
      "Environment.act(): Primary agent has reached destination!\n",
      "Simulator.run(): Trial 60\n",
      "Environment.reset(): Trial set up with start = (7, 5), destination = (4, 1), deadline = 35\n",
      "RoutePlanner.route_to(): destination = (4, 1)\n",
      "Environment.step(): Primary agent hit hard time limit (-100)! Trial aborted.\n",
      "Simulator.run(): Trial 61\n",
      "Environment.reset(): Trial set up with start = (1, 1), destination = (6, 1), deadline = 25\n",
      "RoutePlanner.route_to(): destination = (6, 1)\n",
      "Environment.step(): Primary agent hit hard time limit (-100)! Trial aborted.\n",
      "Simulator.run(): Trial 62\n",
      "Environment.reset(): Trial set up with start = (6, 2), destination = (2, 6), deadline = 40\n",
      "RoutePlanner.route_to(): destination = (2, 6)\n",
      "Environment.step(): Primary agent hit hard time limit (-100)! Trial aborted.\n",
      "Simulator.run(): Trial 63\n",
      "Environment.reset(): Trial set up with start = (7, 1), destination = (5, 4), deadline = 25\n",
      "RoutePlanner.route_to(): destination = (5, 4)\n",
      "Environment.act(): Primary agent has reached destination!\n",
      "Simulator.run(): Trial 64\n",
      "Environment.reset(): Trial set up with start = (8, 5), destination = (4, 5), deadline = 20\n",
      "RoutePlanner.route_to(): destination = (4, 5)\n",
      "Environment.act(): Primary agent has reached destination!\n",
      "Simulator.run(): Trial 65\n",
      "Environment.reset(): Trial set up with start = (5, 3), destination = (1, 3), deadline = 20\n",
      "RoutePlanner.route_to(): destination = (1, 3)\n",
      "Environment.act(): Primary agent has reached destination!\n",
      "Simulator.run(): Trial 66\n",
      "Environment.reset(): Trial set up with start = (2, 3), destination = (3, 6), deadline = 20\n",
      "RoutePlanner.route_to(): destination = (3, 6)\n",
      "Environment.step(): Primary agent hit hard time limit (-100)! Trial aborted.\n",
      "Simulator.run(): Trial 67\n",
      "Environment.reset(): Trial set up with start = (8, 5), destination = (1, 5), deadline = 35\n",
      "RoutePlanner.route_to(): destination = (1, 5)\n",
      "Environment.step(): Primary agent hit hard time limit (-100)! Trial aborted.\n",
      "Simulator.run(): Trial 68\n",
      "Environment.reset(): Trial set up with start = (5, 2), destination = (3, 6), deadline = 30\n",
      "RoutePlanner.route_to(): destination = (3, 6)\n",
      "Environment.step(): Primary agent hit hard time limit (-100)! Trial aborted.\n",
      "Simulator.run(): Trial 69\n",
      "Environment.reset(): Trial set up with start = (4, 6), destination = (8, 6), deadline = 20\n",
      "RoutePlanner.route_to(): destination = (8, 6)\n",
      "Environment.act(): Primary agent has reached destination!\n",
      "Simulator.run(): Trial 70\n",
      "Environment.reset(): Trial set up with start = (8, 6), destination = (2, 3), deadline = 45\n",
      "RoutePlanner.route_to(): destination = (2, 3)\n",
      "Environment.act(): Primary agent has reached destination!\n",
      "Simulator.run(): Trial 71\n",
      "Environment.reset(): Trial set up with start = (5, 1), destination = (8, 6), deadline = 40\n",
      "RoutePlanner.route_to(): destination = (8, 6)\n",
      "Environment.act(): Primary agent has reached destination!\n",
      "Simulator.run(): Trial 72\n",
      "Environment.reset(): Trial set up with start = (2, 4), destination = (5, 2), deadline = 25\n",
      "RoutePlanner.route_to(): destination = (5, 2)\n",
      "Environment.step(): Primary agent hit hard time limit (-100)! Trial aborted.\n",
      "Simulator.run(): Trial 73\n",
      "Environment.reset(): Trial set up with start = (2, 6), destination = (8, 5), deadline = 35\n",
      "RoutePlanner.route_to(): destination = (8, 5)\n",
      "Environment.act(): Primary agent has reached destination!\n",
      "Simulator.run(): Trial 74\n",
      "Environment.reset(): Trial set up with start = (5, 5), destination = (6, 2), deadline = 20\n",
      "RoutePlanner.route_to(): destination = (6, 2)\n",
      "Environment.act(): Primary agent has reached destination!\n",
      "Simulator.run(): Trial 75\n",
      "Environment.reset(): Trial set up with start = (3, 6), destination = (7, 3), deadline = 35\n",
      "RoutePlanner.route_to(): destination = (7, 3)\n",
      "Environment.step(): Primary agent hit hard time limit (-100)! Trial aborted.\n",
      "Simulator.run(): Trial 76\n",
      "Environment.reset(): Trial set up with start = (5, 6), destination = (2, 2), deadline = 35\n",
      "RoutePlanner.route_to(): destination = (2, 2)\n",
      "Environment.step(): Primary agent hit hard time limit (-100)! Trial aborted.\n",
      "Simulator.run(): Trial 77\n",
      "Environment.reset(): Trial set up with start = (1, 3), destination = (2, 6), deadline = 20\n",
      "RoutePlanner.route_to(): destination = (2, 6)\n",
      "Environment.act(): Primary agent has reached destination!\n",
      "Simulator.run(): Trial 78\n",
      "Environment.reset(): Trial set up with start = (1, 3), destination = (5, 5), deadline = 30\n",
      "RoutePlanner.route_to(): destination = (5, 5)\n",
      "Environment.step(): Primary agent hit hard time limit (-100)! Trial aborted.\n",
      "Simulator.run(): Trial 79\n",
      "Environment.reset(): Trial set up with start = (8, 4), destination = (7, 1), deadline = 20\n",
      "RoutePlanner.route_to(): destination = (7, 1)\n",
      "Environment.act(): Primary agent has reached destination!\n",
      "Simulator.run(): Trial 80\n",
      "Environment.reset(): Trial set up with start = (2, 6), destination = (1, 3), deadline = 20\n",
      "RoutePlanner.route_to(): destination = (1, 3)\n",
      "Environment.act(): Primary agent has reached destination!\n",
      "Simulator.run(): Trial 81\n",
      "Environment.reset(): Trial set up with start = (6, 6), destination = (5, 1), deadline = 30\n",
      "RoutePlanner.route_to(): destination = (5, 1)\n",
      "Environment.step(): Primary agent hit hard time limit (-100)! Trial aborted.\n",
      "Simulator.run(): Trial 82\n",
      "Environment.reset(): Trial set up with start = (7, 4), destination = (1, 4), deadline = 30\n",
      "RoutePlanner.route_to(): destination = (1, 4)\n",
      "Environment.act(): Primary agent has reached destination!\n",
      "Simulator.run(): Trial 83\n",
      "Environment.reset(): Trial set up with start = (2, 2), destination = (2, 6), deadline = 20\n",
      "RoutePlanner.route_to(): destination = (2, 6)\n",
      "Environment.act(): Primary agent has reached destination!\n",
      "Simulator.run(): Trial 84\n",
      "Environment.reset(): Trial set up with start = (7, 6), destination = (3, 3), deadline = 35\n",
      "RoutePlanner.route_to(): destination = (3, 3)\n",
      "Environment.act(): Primary agent has reached destination!\n",
      "Simulator.run(): Trial 85\n",
      "Environment.reset(): Trial set up with start = (7, 1), destination = (7, 6), deadline = 25\n",
      "RoutePlanner.route_to(): destination = (7, 6)\n",
      "Environment.step(): Primary agent hit hard time limit (-100)! Trial aborted.\n",
      "Simulator.run(): Trial 86\n",
      "Environment.reset(): Trial set up with start = (6, 6), destination = (2, 4), deadline = 30\n",
      "RoutePlanner.route_to(): destination = (2, 4)\n",
      "Environment.step(): Primary agent hit hard time limit (-100)! Trial aborted.\n",
      "Simulator.run(): Trial 87\n",
      "Environment.reset(): Trial set up with start = (8, 6), destination = (2, 5), deadline = 35\n",
      "RoutePlanner.route_to(): destination = (2, 5)\n",
      "Environment.act(): Primary agent has reached destination!\n",
      "Simulator.run(): Trial 88\n",
      "Environment.reset(): Trial set up with start = (6, 5), destination = (1, 4), deadline = 30\n",
      "RoutePlanner.route_to(): destination = (1, 4)\n",
      "Environment.step(): Primary agent hit hard time limit (-100)! Trial aborted.\n",
      "Simulator.run(): Trial 89\n",
      "Environment.reset(): Trial set up with start = (2, 2), destination = (6, 6), deadline = 40\n",
      "RoutePlanner.route_to(): destination = (6, 6)\n",
      "Environment.step(): Primary agent hit hard time limit (-100)! Trial aborted.\n",
      "Simulator.run(): Trial 90\n",
      "Environment.reset(): Trial set up with start = (3, 3), destination = (4, 6), deadline = 20\n",
      "RoutePlanner.route_to(): destination = (4, 6)\n",
      "Environment.step(): Primary agent hit hard time limit (-100)! Trial aborted.\n",
      "Simulator.run(): Trial 91\n",
      "Environment.reset(): Trial set up with start = (8, 1), destination = (1, 1), deadline = 35\n",
      "RoutePlanner.route_to(): destination = (1, 1)\n",
      "Environment.act(): Primary agent has reached destination!\n",
      "Simulator.run(): Trial 92\n",
      "Environment.reset(): Trial set up with start = (5, 1), destination = (3, 6), deadline = 35\n",
      "RoutePlanner.route_to(): destination = (3, 6)\n",
      "Environment.act(): Primary agent has reached destination!\n",
      "Simulator.run(): Trial 93\n",
      "Environment.reset(): Trial set up with start = (4, 3), destination = (2, 6), deadline = 25\n",
      "RoutePlanner.route_to(): destination = (2, 6)\n",
      "Environment.step(): Primary agent hit hard time limit (-100)! Trial aborted.\n",
      "Simulator.run(): Trial 94\n",
      "Environment.reset(): Trial set up with start = (8, 6), destination = (4, 4), deadline = 30\n",
      "RoutePlanner.route_to(): destination = (4, 4)\n",
      "Environment.step(): Primary agent hit hard time limit (-100)! Trial aborted.\n",
      "Simulator.run(): Trial 95\n",
      "Environment.reset(): Trial set up with start = (4, 6), destination = (8, 4), deadline = 30\n",
      "RoutePlanner.route_to(): destination = (8, 4)\n",
      "Environment.act(): Primary agent has reached destination!\n",
      "Simulator.run(): Trial 96\n",
      "Environment.reset(): Trial set up with start = (5, 4), destination = (1, 6), deadline = 30\n",
      "RoutePlanner.route_to(): destination = (1, 6)\n",
      "Environment.act(): Primary agent has reached destination!\n",
      "Simulator.run(): Trial 97\n",
      "Environment.reset(): Trial set up with start = (8, 2), destination = (1, 5), deadline = 50\n",
      "RoutePlanner.route_to(): destination = (1, 5)\n",
      "Environment.step(): Primary agent hit hard time limit (-100)! Trial aborted.\n",
      "Simulator.run(): Trial 98\n",
      "Environment.reset(): Trial set up with start = (1, 6), destination = (5, 4), deadline = 30\n",
      "RoutePlanner.route_to(): destination = (5, 4)\n",
      "Environment.act(): Primary agent has reached destination!\n",
      "Simulator.run(): Trial 99\n",
      "Environment.reset(): Trial set up with start = (4, 1), destination = (7, 2), deadline = 20\n",
      "RoutePlanner.route_to(): destination = (7, 2)\n",
      "Environment.act(): Primary agent has reached destination!\n"
     ]
    }
   ],
   "source": [
    "%run smartcab/agent.py"
   ]
  }
 ],
 "metadata": {
  "kernelspec": {
   "display_name": "Python 2",
   "language": "python",
   "name": "python2"
  },
  "language_info": {
   "codemirror_mode": {
    "name": "ipython",
    "version": 2
   },
   "file_extension": ".py",
   "mimetype": "text/x-python",
   "name": "python",
   "nbconvert_exporter": "python",
   "pygments_lexer": "ipython2",
   "version": "2.7.12"
  }
 },
 "nbformat": 4,
 "nbformat_minor": 0
}
